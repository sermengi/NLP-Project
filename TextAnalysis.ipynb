{
 "cells": [
  {
   "cell_type": "code",
   "execution_count": 22,
   "metadata": {
    "colab": {
     "base_uri": "https://localhost:8080/"
    },
    "id": "psZgSnEjNzas",
    "outputId": "e4a36232-469b-4da5-e1d5-53c6ae60a572"
   },
   "outputs": [
    {
     "name": "stdout",
     "output_type": "stream",
     "text": [
      "[nltk_data] Downloading package punkt to /root/nltk_data...\n",
      "[nltk_data]   Package punkt is already up-to-date!\n",
      "[nltk_data] Downloading package stopwords to /root/nltk_data...\n",
      "[nltk_data]   Package stopwords is already up-to-date!\n"
     ]
    },
    {
     "data": {
      "text/plain": [
       "True"
      ]
     },
     "execution_count": 22,
     "metadata": {},
     "output_type": "execute_result"
    }
   ],
   "source": [
    "import string\n",
    "\n",
    "from tensorflow.keras.preprocessing.text import Tokenizer\n",
    "\n",
    "from nltk import sent_tokenize\n",
    "from nltk import word_tokenize\n",
    "from nltk.corpus import stopwords\n",
    "from nltk.stem.porter import PorterStemmer\n",
    "import nltk\n",
    "nltk.download('punkt')\n",
    "nltk.download('stopwords')"
   ]
  },
  {
   "cell_type": "markdown",
   "metadata": {
    "id": "ouY0w-nxN4bL"
   },
   "source": [
    "# Load The Text Data"
   ]
  },
  {
   "cell_type": "code",
   "execution_count": 3,
   "metadata": {
    "id": "mmvfStyaGay3"
   },
   "outputs": [],
   "source": [
    "filename = \"ATaleOfTwoCities.txt\"\n",
    "file = open(filename, \"rt\")\n",
    "text = file.read()\n",
    "file.close()"
   ]
  },
  {
   "cell_type": "code",
   "execution_count": 6,
   "metadata": {
    "colab": {
     "base_uri": "https://localhost:8080/",
     "height": 137
    },
    "id": "ApPbTI56Gqsc",
    "outputId": "c4891d09-91b6-4f93-9e0a-5dcbd83fbf0c"
   },
   "outputs": [
    {
     "data": {
      "application/vnd.google.colaboratory.intrinsic+json": {
       "type": "string"
      },
      "text/plain": [
       "'It was the best of times, it was the worst of times, it was the age of\\nwisdom, it was the age of foolishness, it was the epoch of belief, it\\nwas the epoch of incredulity, it was the season of Light, it was the\\nseason of Darkness, it was the spring of hope, it was the winter of\\ndespair, we had everything before us, we had nothing before us, we were\\nall going direct to Heaven, we were all going direct the other way--in\\nshort, the period was so far like the present period, that some of its\\nnoisiest authorities insisted on its being received, for good or for\\nevil, in the superlative degree of comparison only.\\n\\nThere were a king with a large jaw and a queen with a plain face, on the\\nthrone of England; there were a king with a large jaw and a queen with\\na fair face, on the throne of France. In both countries it was clearer\\nthan crystal to the lords of the State preserves of loaves and fishes,\\nthat things in general were settled for ever.\\n\\nIt was the year of Our Lord one thousand seven hundred and seventy-five.\\nSpiritual revelations were conceded to England at that favoured period,\\nas at this. Mrs. Southcott had recently attained her five-and-twentieth\\nblessed birthday, of whom a prophetic private in the Life Guards had\\nheralded the sublime appearance by announcing that arrangements were\\nmade for the swallowing up of London and Westminster. Even the Cock-lane\\nghost had been laid only a round dozen of years, after rapping out its\\nmessages, as the spirits of this very year last past (supernaturally\\ndeficient in originality) rapped out theirs. Mere messages in the\\nearthly order of events had lately come to the English Crown and People,\\nfrom a congress of British subjects in America: which, strange\\nto relate, have proved more important to the human race than any\\ncommunications yet received through any of the chickens of the Cock-lane\\nbrood.\\n\\nFrance, less favoured on the whole as to matters spiritual than her\\nsister of the shield and trident, rolled with exceeding smoothness down\\nhill, making paper money and spending it. Under the guidance of her\\nChristian pastors, she entertained herself, besides, with such humane\\nachievements as sentencing a youth to have his hands cut off, his tongue\\ntorn out with pincers, and his body burned alive, because he had not\\nkneeled down in the rain to do honour to a dirty procession of monks\\nwhich passed within his view, at a distance of some fifty or sixty\\nyards. It is likely enough that, rooted in the woods of France and\\nNorway, there were growing trees, when that sufferer was put to death,\\nalready marked by the Woodman, Fate, to come down and be sawn into\\nboards, to make a certain movable framework with a sack and a knife in\\nit, terrible in history. It is likely enough that in the rough outhouses\\nof some tillers of the heavy lands adjacent to Paris, there were\\nsheltered from the weather that very day, rude carts, bespattered with\\nrustic mire, snuffed about by pigs, and roosted in by poultry, which\\nthe Farmer, Death, had already set apart to be his tumbrils of\\nthe Revolution. But that Woodman and that Farmer, though they work\\nunceasingly, work silently, and no one heard them as they went about\\nwith muffled tread: the rather, forasmuch as to entertain any suspicion\\nthat they were awake, was to be atheistical and traitorous.\\n\\nIn England, there was scarcely an amount of order and protection to\\njustify much national boasting. Daring burglaries by armed men, and\\nhighway robberies, took place in the capital itself every night;\\nfamilies were publicly cautioned not to go out of town without removing\\ntheir furniture to upholsterers’ warehouses for security; the highwayman\\nin the dark was a City tradesman in the light, and, being recognised and\\nchallenged by his fellow-tradesman whom he stopped in his character of\\n“the Captain,” gallantly shot him through the head and rode away; the\\nmail was waylaid by seven robbers, and the guard shot three dead, and\\nthen got shot dead himself by the other four, “in consequence of the\\nfailure of his ammunition:” after which the mail was robbed in peace;\\nthat magnificent potentate, the Lord Mayor of London, was made to stand\\nand deliver on Turnham Green, by one highwayman, who despoiled the\\nillustrious creature in sight of all his retinue; prisoners in London\\ngaols fought battles with their turnkeys, and the majesty of the law\\nfired blunderbusses in among them, loaded with rounds of shot and ball;\\nthieves snipped off diamond crosses from the necks of noble lords at\\nCourt drawing-rooms; musketeers went into St. Giles’s, to search\\nfor contraband goods, and the mob fired on the musketeers, and the\\nmusketeers fired on the mob, and nobody thought any of these occurrences\\nmuch out of the common way. In the midst of them, the hangman, ever busy\\nand ever worse than useless, was in constant requisition; now, stringing\\nup long rows of miscellaneous criminals; now, hanging a housebreaker on\\nSaturday who had been taken on Tuesday; now, burning people in the\\nhand at Newgate by the dozen, and now burning pamphlets at the door of\\nWestminster Hall; to-day, taking the life of an atrocious murderer,\\nand to-morrow of a wretched pilferer who had robbed a farmer’s boy of\\nsixpence.\\n\\nAll these things, and a thousand like them, came to pass in and close\\nupon the dear old year one thousand seven hundred and seventy-five.\\nEnvironed by them, while the Woodman and the Farmer worked unheeded,\\nthose two of the large jaws, and those other two of the plain and the\\nfair faces, trod with stir enough, and carried their divine rights\\nwith a high hand. Thus did the year one thousand seven hundred\\nand seventy-five conduct their Greatnesses, and myriads of small\\ncreatures--the creatures of this chronicle among the rest--along the\\nroads that lay before them.\\n\\n\\n\\n\\nCHAPTER II.\\nThe Mail\\n\\n\\nIt was the Dover road that lay, on a Friday night late in November,\\nbefore the first of the persons with whom this history has business.\\nThe Dover road lay, as to him, beyond the Dover mail, as it lumbered up\\nShooter’s Hill. He walked up hill in the mire by the side of the mail,\\nas the rest of the passengers did; not because they had the least relish\\nfor walking exercise, under the circumstances, but because the hill,\\nand the harness, and the mud, and the mail, were all so heavy, that the\\nhorses had three times already come to a stop, besides once drawing the\\ncoach across the road, with the mutinous intent of taking it back\\nto Blackheath. Reins and whip and coachman and guard, however, in\\ncombination, had read that article of war which forbade a purpose\\notherwise strongly in favour of the argument, that some brute animals\\nare endued with Reason; and the team had capitulated and returned to\\ntheir duty.\\n\\nWith drooping heads and tremulous tails, they mashed their way through\\nthe thick mud, floundering and stumbling between whiles, as if they were\\nfalling to pieces at the larger joints. As often as the driver rested\\nthem and brought them to a stand, with a wary “Wo-ho! so-ho-then!” the\\nnear leader violently shook his head and everything upon it--like an\\nunusually emphatic horse, denying that the coach could be got up the\\nhill. Whenever the leader made this rattle, the passenger started, as a\\nnervous passenger might, and was disturbed in mind.\\n\\nThere was a steaming mist in all the hollows, and it had roamed in its\\nforlornness up the hill, like an evil spirit, seeking rest and finding\\nnone. A clammy and intensely cold mist, it made its slow way through the\\nair in ripples that visibly followed and overspread one another, as the\\nwaves of an unwholesome sea might do. It was dense enough to shut out\\neverything from the light of the coach-lamps but these its own workings,\\nand a few yards of road; and the reek of the labouring horses steamed\\ninto it, as if they had made it all.\\n\\nTwo other passengers, besides the one, were plodding up the hill by the\\nside of the mail. All three were wrapped to the cheekbones and over the\\nears, and wore jack-boots. Not one of the three could have said, from\\nanything he saw, what either of the other two was like; and each was\\nhidden under almost as many wrappers from the eyes of the mind, as from\\nthe eyes of the body, of his two companions. In those days, travellers\\nwere very shy of being confidential on a short notice, for anybody on\\nthe road might be a robber or in league with robbers. As to the latter,\\nwhen every posting-house and ale-house could produce somebody in\\n“the Captain’s” pay, ranging from the landlord to the lowest stable\\nnon-descript, it was the likeliest thing upon the cards. So the guard\\nof the Dover mail thought to himself, that Friday night in November, one\\nthousand seven hundred and seventy-five, lumbering up Shooter’s Hill, as\\nhe stood on his own particular perch behind the mail, beating his feet,\\nand keeping an eye and a hand on the arm-chest before him, where a\\nloaded blunderbuss lay at the top of six or eight loaded horse-pistols,\\ndeposited on a substratum of cutlass.\\n\\nThe Dover mail was in its usual genial position that the guard suspected\\nthe passengers, the passengers suspected one another and the guard, they\\nall suspected everybody else, and the coachman was sure of nothing but\\nthe horses; as to which cattle he could with a clear conscience have\\ntaken his oath on the two Testaments that they were not fit for the\\njourney.\\n\\n“Wo-ho!” said the coachman. “So, then! One more pull and you’re at the\\ntop and be damned to you, for I have had trouble enough to get you to\\nit!--Joe!”\\n\\n“Halloa!” the guard replied.\\n\\n“What o’clock do you make it, Joe?”\\n\\n“Ten minutes, good, past eleven.”\\n\\n“My blood!” ejaculated the vexed coachman, “and not atop of Shooter’s\\nyet! Tst! Yah! Get on with you!”\\n\\nThe emphatic horse, cut short by the whip in a most decided negative,\\nmade a decided scramble for it, and the three other horses followed\\nsuit. Once more, the Dover mail struggled on, with the jack-boots of its\\npassengers squashing along by its side. They had stopped when the coach\\nstopped, and they kept clo'"
      ]
     },
     "execution_count": 6,
     "metadata": {},
     "output_type": "execute_result"
    }
   ],
   "source": [
    "text[:10000]"
   ]
  },
  {
   "cell_type": "markdown",
   "metadata": {
    "id": "Kc8a_dY9N__-"
   },
   "source": [
    "# Manuel Tokenization"
   ]
  },
  {
   "cell_type": "code",
   "execution_count": 7,
   "metadata": {
    "colab": {
     "base_uri": "https://localhost:8080/"
    },
    "id": "OROyMFSQGuii",
    "outputId": "06a80f35-a9fb-49ae-f2cb-fedb63d4f0c6"
   },
   "outputs": [
    {
     "name": "stdout",
     "output_type": "stream",
     "text": [
      "['it', 'was', 'the', 'best', 'of', 'times', 'it', 'was', 'the', 'worst', 'of', 'times', 'it', 'was', 'the', 'age', 'of', 'wisdom', 'it', 'was', 'the', 'age', 'of', 'foolishness', 'it', 'was', 'the', 'epoch', 'of', 'belief']\n"
     ]
    }
   ],
   "source": [
    "words = text.split()\n",
    "table = str.maketrans('','',string.punctuation)\n",
    "stripped = [word.translate(table).lower() for word in words]\n",
    "print(stripped[:30])"
   ]
  },
  {
   "cell_type": "markdown",
   "metadata": {
    "id": "3waaX3DwOI_r"
   },
   "source": [
    "# Tokenization using NLTK"
   ]
  },
  {
   "cell_type": "code",
   "execution_count": 8,
   "metadata": {
    "colab": {
     "base_uri": "https://localhost:8080/"
    },
    "id": "HKCUxs9jLDaF",
    "outputId": "0794de30-1178-4800-b369-bfd1bf883642"
   },
   "outputs": [
    {
     "name": "stdout",
     "output_type": "stream",
     "text": [
      "It was the best of times, it was the worst of times, it was the age of\n",
      "wisdom, it was the age of foolishness, it was the epoch of belief, it\n",
      "was the epoch of incredulity, it was the season of Light, it was the\n",
      "season of Darkness, it was the spring of hope, it was the winter of\n",
      "despair, we had everything before us, we had nothing before us, we were\n",
      "all going direct to Heaven, we were all going direct the other way--in\n",
      "short, the period was so far like the present period, that some of its\n",
      "noisiest authorities insisted on its being received, for good or for\n",
      "evil, in the superlative degree of comparison only.\n"
     ]
    }
   ],
   "source": [
    "# sentence tokenization\n",
    "sentences = sent_tokenize(text)\n",
    "print(sentences[0])"
   ]
  },
  {
   "cell_type": "code",
   "execution_count": 9,
   "metadata": {
    "colab": {
     "base_uri": "https://localhost:8080/"
    },
    "id": "TJqTTurqMXHY",
    "outputId": "d48e5468-107e-4c37-c1b2-1aa642dee9d1"
   },
   "outputs": [
    {
     "name": "stdout",
     "output_type": "stream",
     "text": [
      "['it', 'was', 'the', 'best', 'of', 'it', 'was', 'the', 'worst', 'of']\n"
     ]
    }
   ],
   "source": [
    "# word tokenization\n",
    "tokens = word_tokenize(text)\n",
    "# remove non alphabetic chars\n",
    "words = [word.lower() for word in words if word.isalpha()]\n",
    "print(words[:10])"
   ]
  },
  {
   "cell_type": "code",
   "execution_count": 10,
   "metadata": {
    "colab": {
     "base_uri": "https://localhost:8080/"
    },
    "id": "ht3tFL1ZNNry",
    "outputId": "0d46b33a-a39c-455b-e580-0b9c8b66ea0e"
   },
   "outputs": [
    {
     "name": "stdout",
     "output_type": "stream",
     "text": [
      "['best', 'worst', 'age', 'age', 'epoch', 'epoch', 'season', 'season', 'spring', 'winter']\n"
     ]
    }
   ],
   "source": [
    "# removing stopwords\n",
    "stop_words = stopwords.words(\"english\")\n",
    "words = [word for word in words if word not in stop_words]\n",
    "print(words[:10])"
   ]
  },
  {
   "cell_type": "code",
   "execution_count": 11,
   "metadata": {
    "colab": {
     "base_uri": "https://localhost:8080/"
    },
    "id": "_iryt3qXOxKY",
    "outputId": "e0489494-044f-4b46-dc08-4cd7033ee5e7"
   },
   "outputs": [
    {
     "name": "stdout",
     "output_type": "stream",
     "text": [
      "['best', 'worst', 'age', 'age', 'epoch', 'epoch', 'season', 'season', 'spring', 'winter']\n"
     ]
    }
   ],
   "source": [
    "# word stemming\n",
    "porter = PorterStemmer()\n",
    "stemmed = [porter.stem(word) for word in words]\n",
    "print(stemmed[:10])"
   ]
  },
  {
   "cell_type": "markdown",
   "metadata": {
    "id": "sR8DL4vPetXs"
   },
   "source": [
    "# Bag-Of-Words"
   ]
  },
  {
   "cell_type": "code",
   "execution_count": 23,
   "metadata": {
    "id": "RsvYcXHfesye"
   },
   "outputs": [],
   "source": [
    "tokenizer = Tokenizer(num_words=100, oov_token=\"<OOV>\")\n",
    "tokenizer.fit_on_texts(stemmed)\n",
    "word_index = tokenizer.word_index\n",
    "sequences = tokenizer.texts_to_sequences(stemmed)"
   ]
  },
  {
   "cell_type": "code",
   "execution_count": 1,
   "metadata": {},
   "outputs": [
    {
     "name": "stdout",
     "output_type": "stream",
     "text": [
      "Hello World!!\n"
     ]
    }
   ],
   "source": [
    "print(\"Hello World!!\")"
   ]
  }
 ],
 "metadata": {
  "colab": {
   "name": "TextAnalysis.ipynb",
   "provenance": []
  },
  "kernelspec": {
   "display_name": "Python 3 (ipykernel)",
   "language": "python",
   "name": "python3"
  },
  "language_info": {
   "codemirror_mode": {
    "name": "ipython",
    "version": 3
   },
   "file_extension": ".py",
   "mimetype": "text/x-python",
   "name": "python",
   "nbconvert_exporter": "python",
   "pygments_lexer": "ipython3",
   "version": "3.9.7"
  }
 },
 "nbformat": 4,
 "nbformat_minor": 4
}
